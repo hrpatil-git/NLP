{
 "cells": [
  {
   "cell_type": "markdown",
   "id": "3041e6c3",
   "metadata": {},
   "source": [
    "# Email Spam and Ham Detection"
   ]
  },
  {
   "cell_type": "markdown",
   "id": "61dae525",
   "metadata": {},
   "source": [
    "This is a spam detection notebook using the Ham and Spam email dataset from SpamAssassin.\n",
    "The dataset contains over 3,000 emails, with labels indicating whether they are ham or spam. Using machine learning algorithms, I'm exploring ways to accurately classify emails and identify potential spam messages. \n",
    "\n",
    "In this notebook, I have primarily tried working with Naive Bayes methodology, and got about 98% accuracy."
   ]
  },
  {
   "cell_type": "code",
   "execution_count": 1,
   "id": "54540a4c",
   "metadata": {},
   "outputs": [],
   "source": [
    "import pandas as pd\n",
    "import numpy as np\n",
    "import os\n",
    "import opendatasets as od\n",
    "from pathlib import Path"
   ]
  },
  {
   "cell_type": "code",
   "execution_count": 2,
   "id": "34a36a17",
   "metadata": {},
   "outputs": [],
   "source": [
    "file_present = True\n",
    "datapath = Path()\n",
    "datapath.mkdir(parents=True, exist_ok=True)\n",
    "for filename in (\"ham\", \"spam\"):\n",
    "    if not (datapath / filename).is_dir():\n",
    "        file_present = False\n",
    "\n",
    "# below code requires Kaggle Credentials, so follow the following steps to get them\n",
    "# opendatasets uses the Kaggle Official API for donwloading dataset from Kaggle. Follow these steps to find your API credentials:\n",
    "# Step 1: Go to https://kaggle.com/me/account (sign in if required).\n",
    "# Step 2: Scroll down to the \"API\" section and click \"Create New API Token\". This will download a file kaggle.json with the following contents:\n",
    "# {\"username\":\"YOUR_KAGGLE_USERNAME\",\"key\":\"YOUR_KAGGLE_KEY\"}\n",
    "# Step 3: When you run opendatsets.download, you will be asked to enter your username & Kaggle API, which you can get from the file downloaded in step 2.\n",
    "if not file_present:\n",
    "    od.download(\"https://www.kaggle.com/datasets/veleon/ham-and-spam-dataset\")"
   ]
  },
  {
   "cell_type": "code",
   "execution_count": 3,
   "id": "e1845df1",
   "metadata": {},
   "outputs": [
    {
     "name": "stdout",
     "output_type": "stream",
     "text": [
      "Spam Data: 501\n",
      "Ham Data: 2551\n"
     ]
    }
   ],
   "source": [
    "# Check given traning examples\n",
    "print(\"Spam Data:\", len(os.listdir('spam')))\n",
    "print(\"Ham Data:\", len(os.listdir('ham')))"
   ]
  },
  {
   "cell_type": "code",
   "execution_count": 4,
   "id": "d39f21db",
   "metadata": {},
   "outputs": [
    {
     "name": "stderr",
     "output_type": "stream",
     "text": [
      "[nltk_data] Downloading package wordnet to C:\\Users\\Young\n",
      "[nltk_data]     Gun\\AppData\\Roaming\\nltk_data...\n",
      "[nltk_data]   Package wordnet is already up-to-date!\n",
      "[nltk_data] Downloading package stopwords to C:\\Users\\Young\n",
      "[nltk_data]     Gun\\AppData\\Roaming\\nltk_data...\n",
      "[nltk_data]   Package stopwords is already up-to-date!\n"
     ]
    }
   ],
   "source": [
    "import nltk\n",
    "import re\n",
    "\n",
    "nltk.download('wordnet')\n",
    "nltk.download('stopwords')\n",
    "\n",
    "from nltk.corpus import stopwords\n",
    "from nltk.stem import WordNetLemmatizer\n",
    "\n",
    "from sklearn.feature_extraction.text import CountVectorizer"
   ]
  },
  {
   "cell_type": "code",
   "execution_count": 5,
   "id": "1bc38247",
   "metadata": {},
   "outputs": [],
   "source": [
    "mails = []\n",
    "labels = []\n",
    "\n",
    "for label in ['spam', 'ham'] :\n",
    "    \n",
    "    f_name  = os.listdir(label)\n",
    "    \n",
    "    for name in f_name :\n",
    "        f = open((label +'/'+ name), 'r', encoding = 'latin-1')\n",
    "        bolk = f.read()\n",
    "        mails.append(bolk)\n",
    "        labels.append(label)\n",
    "        \n",
    "        \n",
    "df = pd.DataFrame({'emails' : mails, 'label':labels})"
   ]
  },
  {
   "cell_type": "code",
   "execution_count": 6,
   "id": "15d1e008",
   "metadata": {},
   "outputs": [
    {
     "data": {
      "text/html": [
       "<div>\n",
       "<style scoped>\n",
       "    .dataframe tbody tr th:only-of-type {\n",
       "        vertical-align: middle;\n",
       "    }\n",
       "\n",
       "    .dataframe tbody tr th {\n",
       "        vertical-align: top;\n",
       "    }\n",
       "\n",
       "    .dataframe thead th {\n",
       "        text-align: right;\n",
       "    }\n",
       "</style>\n",
       "<table border=\"1\" class=\"dataframe\">\n",
       "  <thead>\n",
       "    <tr style=\"text-align: right;\">\n",
       "      <th></th>\n",
       "      <th>emails</th>\n",
       "      <th>label</th>\n",
       "    </tr>\n",
       "  </thead>\n",
       "  <tbody>\n",
       "    <tr>\n",
       "      <th>0</th>\n",
       "      <td>mv 1 00001.bfc8d64d12b325ff385cca8d07b84288\\nm...</td>\n",
       "      <td>spam</td>\n",
       "    </tr>\n",
       "    <tr>\n",
       "      <th>1</th>\n",
       "      <td>From 12a1mailbot1@web.de  Thu Aug 22 13:17:22 ...</td>\n",
       "      <td>spam</td>\n",
       "    </tr>\n",
       "    <tr>\n",
       "      <th>2</th>\n",
       "      <td>From ilug-admin@linux.ie  Thu Aug 22 13:27:39 ...</td>\n",
       "      <td>spam</td>\n",
       "    </tr>\n",
       "    <tr>\n",
       "      <th>3</th>\n",
       "      <td>From sabrina@mx3.1premio.com  Thu Aug 22 14:44...</td>\n",
       "      <td>spam</td>\n",
       "    </tr>\n",
       "    <tr>\n",
       "      <th>4</th>\n",
       "      <td>From wsup@playful.com  Thu Aug 22 16:17:00 200...</td>\n",
       "      <td>spam</td>\n",
       "    </tr>\n",
       "  </tbody>\n",
       "</table>\n",
       "</div>"
      ],
      "text/plain": [
       "                                              emails label\n",
       "0  mv 1 00001.bfc8d64d12b325ff385cca8d07b84288\\nm...  spam\n",
       "1  From 12a1mailbot1@web.de  Thu Aug 22 13:17:22 ...  spam\n",
       "2  From ilug-admin@linux.ie  Thu Aug 22 13:27:39 ...  spam\n",
       "3  From sabrina@mx3.1premio.com  Thu Aug 22 14:44...  spam\n",
       "4  From wsup@playful.com  Thu Aug 22 16:17:00 200...  spam"
      ]
     },
     "execution_count": 6,
     "metadata": {},
     "output_type": "execute_result"
    }
   ],
   "source": [
    "df.head()"
   ]
  },
  {
   "cell_type": "code",
   "execution_count": 7,
   "id": "46191f39",
   "metadata": {},
   "outputs": [],
   "source": [
    "from sklearn.preprocessing import LabelEncoder\n",
    "encoder = LabelEncoder()\n",
    "df['label'] = encoder.fit_transform(df['label'])"
   ]
  },
  {
   "cell_type": "code",
   "execution_count": 8,
   "id": "dcef98ec",
   "metadata": {},
   "outputs": [],
   "source": [
    "df['emails'] = df['emails'].apply(lambda x : x.lower())"
   ]
  },
  {
   "cell_type": "code",
   "execution_count": 9,
   "id": "f1505a51",
   "metadata": {},
   "outputs": [
    {
     "data": {
      "text/html": [
       "<div>\n",
       "<style scoped>\n",
       "    .dataframe tbody tr th:only-of-type {\n",
       "        vertical-align: middle;\n",
       "    }\n",
       "\n",
       "    .dataframe tbody tr th {\n",
       "        vertical-align: top;\n",
       "    }\n",
       "\n",
       "    .dataframe thead th {\n",
       "        text-align: right;\n",
       "    }\n",
       "</style>\n",
       "<table border=\"1\" class=\"dataframe\">\n",
       "  <thead>\n",
       "    <tr style=\"text-align: right;\">\n",
       "      <th></th>\n",
       "      <th>emails</th>\n",
       "      <th>label</th>\n",
       "    </tr>\n",
       "  </thead>\n",
       "  <tbody>\n",
       "    <tr>\n",
       "      <th>0</th>\n",
       "      <td>mv 1 00001.bfc8d64d12b325ff385cca8d07b84288\\nm...</td>\n",
       "      <td>1</td>\n",
       "    </tr>\n",
       "    <tr>\n",
       "      <th>1</th>\n",
       "      <td>from 12a1mailbot1@web.de  thu aug 22 13:17:22 ...</td>\n",
       "      <td>1</td>\n",
       "    </tr>\n",
       "    <tr>\n",
       "      <th>2</th>\n",
       "      <td>from ilug-admin@linux.ie  thu aug 22 13:27:39 ...</td>\n",
       "      <td>1</td>\n",
       "    </tr>\n",
       "    <tr>\n",
       "      <th>3</th>\n",
       "      <td>from sabrina@mx3.1premio.com  thu aug 22 14:44...</td>\n",
       "      <td>1</td>\n",
       "    </tr>\n",
       "    <tr>\n",
       "      <th>4</th>\n",
       "      <td>from wsup@playful.com  thu aug 22 16:17:00 200...</td>\n",
       "      <td>1</td>\n",
       "    </tr>\n",
       "    <tr>\n",
       "      <th>...</th>\n",
       "      <td>...</td>\n",
       "      <td>...</td>\n",
       "    </tr>\n",
       "    <tr>\n",
       "      <th>3047</th>\n",
       "      <td>from rssfeeds@jmason.org  thu oct 10 12:32:30 ...</td>\n",
       "      <td>0</td>\n",
       "    </tr>\n",
       "    <tr>\n",
       "      <th>3048</th>\n",
       "      <td>from rssfeeds@jmason.org  thu oct 10 12:32:31 ...</td>\n",
       "      <td>0</td>\n",
       "    </tr>\n",
       "    <tr>\n",
       "      <th>3049</th>\n",
       "      <td>from rssfeeds@jmason.org  thu oct 10 12:32:32 ...</td>\n",
       "      <td>0</td>\n",
       "    </tr>\n",
       "    <tr>\n",
       "      <th>3050</th>\n",
       "      <td>from rssfeeds@jmason.org  thu oct 10 12:32:34 ...</td>\n",
       "      <td>0</td>\n",
       "    </tr>\n",
       "    <tr>\n",
       "      <th>3051</th>\n",
       "      <td>from rssfeeds@jmason.org  thu oct 10 12:32:34 ...</td>\n",
       "      <td>0</td>\n",
       "    </tr>\n",
       "  </tbody>\n",
       "</table>\n",
       "<p>3052 rows × 2 columns</p>\n",
       "</div>"
      ],
      "text/plain": [
       "                                                 emails  label\n",
       "0     mv 1 00001.bfc8d64d12b325ff385cca8d07b84288\\nm...      1\n",
       "1     from 12a1mailbot1@web.de  thu aug 22 13:17:22 ...      1\n",
       "2     from ilug-admin@linux.ie  thu aug 22 13:27:39 ...      1\n",
       "3     from sabrina@mx3.1premio.com  thu aug 22 14:44...      1\n",
       "4     from wsup@playful.com  thu aug 22 16:17:00 200...      1\n",
       "...                                                 ...    ...\n",
       "3047  from rssfeeds@jmason.org  thu oct 10 12:32:30 ...      0\n",
       "3048  from rssfeeds@jmason.org  thu oct 10 12:32:31 ...      0\n",
       "3049  from rssfeeds@jmason.org  thu oct 10 12:32:32 ...      0\n",
       "3050  from rssfeeds@jmason.org  thu oct 10 12:32:34 ...      0\n",
       "3051  from rssfeeds@jmason.org  thu oct 10 12:32:34 ...      0\n",
       "\n",
       "[3052 rows x 2 columns]"
      ]
     },
     "execution_count": 9,
     "metadata": {},
     "output_type": "execute_result"
    }
   ],
   "source": [
    "df"
   ]
  },
  {
   "cell_type": "code",
   "execution_count": 10,
   "id": "032ca52e",
   "metadata": {},
   "outputs": [],
   "source": [
    "df['emails'] = df['emails'].apply(lambda x:x.replace('\\n',''))\n",
    "df['emails'] = df['emails'].apply(lambda x:x.replace('\\t',''))"
   ]
  },
  {
   "cell_type": "code",
   "execution_count": 11,
   "id": "c7f5d2d7",
   "metadata": {},
   "outputs": [
    {
     "data": {
      "text/plain": [
       "'from sabrina@mx3.1premio.com  thu aug 22 14:44:07 2002return-path: <sabrina@mx3.1premio.com>delivered-to: zzzz@localhost.example.comreceived: from localhost (localhost [127.0.0.1])by phobos.labs.example.com (postfix) with esmtp id 1e90847c66for <zzzz@localhost>; thu, 22 aug 2002 09:44:02 -0400 (edt)received: from mail.webnote.net [193.120.211.219]by localhost with pop3 (fetchmail-5.9.0)for zzzz@localhost (single-drop); thu, 22 aug 2002 14:44:03 +0100 (ist)received: from email.qves.com (email1.qves.net [209.63.151.251] (may be forged))by webnote.net (8.9.3/8.9.3) with esmtp id oaa04953for <zzzz@example.com>; thu, 22 aug 2002 14:37:23 +0100received: from qvp0086 ([169.254.6.17]) by email.qves.com with microsoft smtpsvc(5.0.2195.2966); thu, 22 aug 2002 07:36:20 -0600from: \"slim down\" <sabrina@mx3.1premio.com>to: <zzzz@example.com>subject: guaranteed to lose 10-12 lbs in 30 days                          11.150date: thu, 22 aug 2002 07:36:19 -0600message-id: <9a63c01c249e0$e5a9d610$1106fea9@freeyankeedom.com>mime-version: 1.0content-type: text/plain;charset=\"iso-8859-1\"content-transfer-encoding: 7bitx-mailer: microsoft cdo for windows 2000thread-index: acjj4owpowgq7rdnswcz5he3x9zzdq==content-class: urn:content-classes:messagex-mimeole: produced by microsoft mimeole v6.00.2462.0000x-originalarrivaltime: 22 aug 2002 13:36:20.0969 (utc) filetime=[e692fd90:01c249e0]1) fight the risk of cancer!http://www.adclick.ws/p.cfm?o=315&s=pk0072) slim down - guaranteed to lose 10-12 lbs in 30 dayshttp://www.adclick.ws/p.cfm?o=249&s=pk0073) get the child support you deserve - free legal advicehttp://www.adclick.ws/p.cfm?o=245&s=pk0024) join the web\\'s fastest growing singles communityhttp://www.adclick.ws/p.cfm?o=259&s=pk0075) start your private photo album online!http://www.adclick.ws/p.cfm?o=283&s=pk007have a wonderful day,offer managerprizemamaif you wish to leave this list please use the link below.http://www.qves.com/trim/?zzzz@example.com%7c17%7c308417'"
      ]
     },
     "execution_count": 11,
     "metadata": {},
     "output_type": "execute_result"
    }
   ],
   "source": [
    "df['emails'][3]"
   ]
  },
  {
   "cell_type": "code",
   "execution_count": 12,
   "id": "1ee234e4",
   "metadata": {},
   "outputs": [],
   "source": [
    "lemm = WordNetLemmatizer()\n",
    "processed_text = []\n",
    "\n",
    "for i in range(len(df)) :\n",
    "    text = re.sub('^a-zA-z',' ',df['emails'][i])\n",
    "    words = text.split()\n",
    "    words = [lemm.lemmatize(word) for word in words if word not in set(stopwords.words('english'))]\n",
    "    text_p = ' '.join(words)\n",
    "    processed_text.append(text_p)"
   ]
  },
  {
   "cell_type": "code",
   "execution_count": 13,
   "id": "71f87b70",
   "metadata": {},
   "outputs": [],
   "source": [
    "cv = CountVectorizer()\n",
    "X = cv.fit_transform(processed_text).toarray()"
   ]
  },
  {
   "cell_type": "code",
   "execution_count": 14,
   "id": "6a7a3477",
   "metadata": {},
   "outputs": [],
   "source": [
    "y = df['label']"
   ]
  },
  {
   "cell_type": "code",
   "execution_count": 15,
   "id": "c836b0c7",
   "metadata": {},
   "outputs": [],
   "source": [
    "from sklearn.model_selection import train_test_split\n",
    "\n",
    "X_train, X_test, y_train, y_test = train_test_split(X, y, test_size = 0.2, random_state = 5)"
   ]
  },
  {
   "cell_type": "code",
   "execution_count": 16,
   "id": "2491e235",
   "metadata": {},
   "outputs": [],
   "source": [
    "from sklearn.naive_bayes import MultinomialNB\n",
    "model = MultinomialNB()"
   ]
  },
  {
   "cell_type": "code",
   "execution_count": 17,
   "id": "988c2a75",
   "metadata": {},
   "outputs": [
    {
     "data": {
      "text/html": [
       "<style>#sk-container-id-1 {color: black;background-color: white;}#sk-container-id-1 pre{padding: 0;}#sk-container-id-1 div.sk-toggleable {background-color: white;}#sk-container-id-1 label.sk-toggleable__label {cursor: pointer;display: block;width: 100%;margin-bottom: 0;padding: 0.3em;box-sizing: border-box;text-align: center;}#sk-container-id-1 label.sk-toggleable__label-arrow:before {content: \"▸\";float: left;margin-right: 0.25em;color: #696969;}#sk-container-id-1 label.sk-toggleable__label-arrow:hover:before {color: black;}#sk-container-id-1 div.sk-estimator:hover label.sk-toggleable__label-arrow:before {color: black;}#sk-container-id-1 div.sk-toggleable__content {max-height: 0;max-width: 0;overflow: hidden;text-align: left;background-color: #f0f8ff;}#sk-container-id-1 div.sk-toggleable__content pre {margin: 0.2em;color: black;border-radius: 0.25em;background-color: #f0f8ff;}#sk-container-id-1 input.sk-toggleable__control:checked~div.sk-toggleable__content {max-height: 200px;max-width: 100%;overflow: auto;}#sk-container-id-1 input.sk-toggleable__control:checked~label.sk-toggleable__label-arrow:before {content: \"▾\";}#sk-container-id-1 div.sk-estimator input.sk-toggleable__control:checked~label.sk-toggleable__label {background-color: #d4ebff;}#sk-container-id-1 div.sk-label input.sk-toggleable__control:checked~label.sk-toggleable__label {background-color: #d4ebff;}#sk-container-id-1 input.sk-hidden--visually {border: 0;clip: rect(1px 1px 1px 1px);clip: rect(1px, 1px, 1px, 1px);height: 1px;margin: -1px;overflow: hidden;padding: 0;position: absolute;width: 1px;}#sk-container-id-1 div.sk-estimator {font-family: monospace;background-color: #f0f8ff;border: 1px dotted black;border-radius: 0.25em;box-sizing: border-box;margin-bottom: 0.5em;}#sk-container-id-1 div.sk-estimator:hover {background-color: #d4ebff;}#sk-container-id-1 div.sk-parallel-item::after {content: \"\";width: 100%;border-bottom: 1px solid gray;flex-grow: 1;}#sk-container-id-1 div.sk-label:hover label.sk-toggleable__label {background-color: #d4ebff;}#sk-container-id-1 div.sk-serial::before {content: \"\";position: absolute;border-left: 1px solid gray;box-sizing: border-box;top: 0;bottom: 0;left: 50%;z-index: 0;}#sk-container-id-1 div.sk-serial {display: flex;flex-direction: column;align-items: center;background-color: white;padding-right: 0.2em;padding-left: 0.2em;position: relative;}#sk-container-id-1 div.sk-item {position: relative;z-index: 1;}#sk-container-id-1 div.sk-parallel {display: flex;align-items: stretch;justify-content: center;background-color: white;position: relative;}#sk-container-id-1 div.sk-item::before, #sk-container-id-1 div.sk-parallel-item::before {content: \"\";position: absolute;border-left: 1px solid gray;box-sizing: border-box;top: 0;bottom: 0;left: 50%;z-index: -1;}#sk-container-id-1 div.sk-parallel-item {display: flex;flex-direction: column;z-index: 1;position: relative;background-color: white;}#sk-container-id-1 div.sk-parallel-item:first-child::after {align-self: flex-end;width: 50%;}#sk-container-id-1 div.sk-parallel-item:last-child::after {align-self: flex-start;width: 50%;}#sk-container-id-1 div.sk-parallel-item:only-child::after {width: 0;}#sk-container-id-1 div.sk-dashed-wrapped {border: 1px dashed gray;margin: 0 0.4em 0.5em 0.4em;box-sizing: border-box;padding-bottom: 0.4em;background-color: white;}#sk-container-id-1 div.sk-label label {font-family: monospace;font-weight: bold;display: inline-block;line-height: 1.2em;}#sk-container-id-1 div.sk-label-container {text-align: center;}#sk-container-id-1 div.sk-container {/* jupyter's `normalize.less` sets `[hidden] { display: none; }` but bootstrap.min.css set `[hidden] { display: none !important; }` so we also need the `!important` here to be able to override the default hidden behavior on the sphinx rendered scikit-learn.org. See: https://github.com/scikit-learn/scikit-learn/issues/21755 */display: inline-block !important;position: relative;}#sk-container-id-1 div.sk-text-repr-fallback {display: none;}</style><div id=\"sk-container-id-1\" class=\"sk-top-container\"><div class=\"sk-text-repr-fallback\"><pre>MultinomialNB()</pre><b>In a Jupyter environment, please rerun this cell to show the HTML representation or trust the notebook. <br />On GitHub, the HTML representation is unable to render, please try loading this page with nbviewer.org.</b></div><div class=\"sk-container\" hidden><div class=\"sk-item\"><div class=\"sk-estimator sk-toggleable\"><input class=\"sk-toggleable__control sk-hidden--visually\" id=\"sk-estimator-id-1\" type=\"checkbox\" checked><label for=\"sk-estimator-id-1\" class=\"sk-toggleable__label sk-toggleable__label-arrow\">MultinomialNB</label><div class=\"sk-toggleable__content\"><pre>MultinomialNB()</pre></div></div></div></div></div>"
      ],
      "text/plain": [
       "MultinomialNB()"
      ]
     },
     "execution_count": 17,
     "metadata": {},
     "output_type": "execute_result"
    }
   ],
   "source": [
    "model.fit(X_train,y_train)"
   ]
  },
  {
   "cell_type": "code",
   "execution_count": 18,
   "id": "aa34b644",
   "metadata": {},
   "outputs": [],
   "source": [
    "y_pred = model.predict(X_test)"
   ]
  },
  {
   "cell_type": "code",
   "execution_count": 19,
   "id": "7e35365c",
   "metadata": {},
   "outputs": [
    {
     "data": {
      "text/plain": [
       "0.9852700490998363"
      ]
     },
     "execution_count": 19,
     "metadata": {},
     "output_type": "execute_result"
    }
   ],
   "source": [
    "from sklearn.metrics import accuracy_score\n",
    "\n",
    "accuracy = accuracy_score(y_test, y_pred)\n",
    "\n",
    "accuracy"
   ]
  },
  {
   "cell_type": "code",
   "execution_count": 20,
   "id": "489b1072",
   "metadata": {},
   "outputs": [
    {
     "data": {
      "image/png": "[encoded data removed]",
      "text/plain": [
       "<Figure size 640x480 with 2 Axes>"
      ]
     },
     "metadata": {},
     "output_type": "display_data"
    }
   ],
   "source": [
    "import matplotlib.pyplot as plt\n",
    "from sklearn.metrics import ConfusionMatrixDisplay\n",
    "\n",
    "ConfusionMatrixDisplay.from_predictions(y_test, y_pred)\n",
    "plt.show()"
   ]
  }
 ],
 "metadata": {
  "kernelspec": {
   "display_name": "Python 3 (ipykernel)",
   "language": "python",
   "name": "python3"
  },
  "language_info": {
   "codemirror_mode": {
    "name": "ipython",
    "version": 3
   },
   "file_extension": ".py",
   "mimetype": "text/x-python",
   "name": "python",
   "nbconvert_exporter": "python",
   "pygments_lexer": "ipython3",
   "version": "3.9.13"
  }
 },
 "nbformat": 4,
 "nbformat_minor": 5
}
